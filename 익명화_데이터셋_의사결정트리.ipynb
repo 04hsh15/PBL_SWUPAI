{
  "nbformat": 4,
  "nbformat_minor": 0,
  "metadata": {
    "colab": {
      "provenance": []
    },
    "kernelspec": {
      "name": "python3",
      "display_name": "Python 3"
    },
    "language_info": {
      "name": "python"
    }
  },
  "cells": [
    {
      "cell_type": "code",
      "execution_count": 22,
      "metadata": {
        "colab": {
          "base_uri": "https://localhost:8080/"
        },
        "id": "tkhT8lTjtwMQ",
        "outputId": "be66aecd-f07d-4193-d3fd-35ee7dc073c2"
      },
      "outputs": [
        {
          "output_type": "stream",
          "name": "stdout",
          "text": [
            "Reading package lists... Done\n",
            "Building dependency tree... Done\n",
            "Reading state information... Done\n",
            "fonts-nanum is already the newest version (20200506-1).\n",
            "0 upgraded, 0 newly installed, 0 to remove and 15 not upgraded.\n",
            "/usr/share/fonts: caching, new cache contents: 0 fonts, 1 dirs\n",
            "/usr/share/fonts/truetype: caching, new cache contents: 0 fonts, 3 dirs\n",
            "/usr/share/fonts/truetype/humor-sans: caching, new cache contents: 1 fonts, 0 dirs\n",
            "/usr/share/fonts/truetype/liberation: caching, new cache contents: 16 fonts, 0 dirs\n",
            "/usr/share/fonts/truetype/nanum: caching, new cache contents: 12 fonts, 0 dirs\n",
            "/usr/local/share/fonts: caching, new cache contents: 0 fonts, 0 dirs\n",
            "/root/.local/share/fonts: skipping, no such directory\n",
            "/root/.fonts: skipping, no such directory\n",
            "/usr/share/fonts/truetype: skipping, looped directory detected\n",
            "/usr/share/fonts/truetype/humor-sans: skipping, looped directory detected\n",
            "/usr/share/fonts/truetype/liberation: skipping, looped directory detected\n",
            "/usr/share/fonts/truetype/nanum: skipping, looped directory detected\n",
            "/var/cache/fontconfig: cleaning cache directory\n",
            "/root/.cache/fontconfig: not cleaning non-existent cache directory\n",
            "/root/.fontconfig: not cleaning non-existent cache directory\n",
            "fc-cache: succeeded\n"
          ]
        }
      ],
      "source": [
        "# 한글 폰트 설치\n",
        "!sudo apt-get install -y fonts-nanum\n",
        "!sudo fc-cache -fv\n",
        "!rm ~/.cache/matplotlib -rf"
      ]
    },
    {
      "cell_type": "code",
      "source": [
        "# 필요한 라이브러리 불러오기\n",
        "import pandas as pd\n",
        "from sklearn.model_selection import train_test_split\n",
        "from sklearn.tree import DecisionTreeClassifier, export_graphviz\n",
        "from sklearn.metrics import accuracy_score\n",
        "import graphviz\n",
        "from sklearn.preprocessing import LabelEncoder"
      ],
      "metadata": {
        "id": "rmxVjK6DuBrH"
      },
      "execution_count": 23,
      "outputs": []
    },
    {
      "cell_type": "code",
      "source": [
        "# 데이터 불러오기 (비식별화된 데이터)\n",
        "file_path = '익명화_임금_데이터셋.csv'\n",
        "df = pd.read_csv(file_path, encoding='cp949', sep=';')"
      ],
      "metadata": {
        "id": "qLDacKiXuEJ3"
      },
      "execution_count": 24,
      "outputs": []
    },
    {
      "cell_type": "code",
      "source": [
        "# LabelEncoder를 사용하여 'name' 열을 숫자로 변환\n",
        "le_name = LabelEncoder()\n",
        "df['이름'] = le_name.fit_transform(df['이름'])"
      ],
      "metadata": {
        "id": "B4G9sEN6uGGv"
      },
      "execution_count": 25,
      "outputs": []
    },
    {
      "cell_type": "code",
      "source": [
        "# LabelEncoder를 사용하여 'sex' 열을 숫자로 변환\n",
        "le_sex = LabelEncoder()\n",
        "df['성별'] = le_sex.fit_transform(df['성별'])"
      ],
      "metadata": {
        "id": "AehJPqQfuJhS"
      },
      "execution_count": 26,
      "outputs": []
    },
    {
      "cell_type": "code",
      "source": [
        "# 종속 변수와 독립 변수 분리\n",
        "X = df.drop('임금', axis=1)\n",
        "y = df['임금']"
      ],
      "metadata": {
        "id": "6JyFIFLRuLAu"
      },
      "execution_count": 27,
      "outputs": []
    },
    {
      "cell_type": "code",
      "source": [
        "# '60M'을 숫자로 변경\n",
        "y = y.replace({'>60M': 1, '<=60M': 0})"
      ],
      "metadata": {
        "id": "PTU5RXLZuULn"
      },
      "execution_count": 28,
      "outputs": []
    },
    {
      "cell_type": "code",
      "source": [
        "# 학습 데이터와 테스트 데이터로 분리\n",
        "X_train, X_test, y_train, y_test = train_test_split(X, y, test_size=0.2, random_state=42)"
      ],
      "metadata": {
        "id": "Kjl3RLDLuWJi"
      },
      "execution_count": 29,
      "outputs": []
    },
    {
      "cell_type": "code",
      "source": [
        "# 의사결정트리 모델 학습\n",
        "model = DecisionTreeClassifier(random_state=42)\n",
        "model.fit(X_train, y_train)"
      ],
      "metadata": {
        "colab": {
          "base_uri": "https://localhost:8080/",
          "height": 75
        },
        "id": "iw9rk_l2uiiS",
        "outputId": "67bed65f-4b2e-49d0-f978-9af49af92de4"
      },
      "execution_count": 30,
      "outputs": [
        {
          "output_type": "execute_result",
          "data": {
            "text/plain": [
              "DecisionTreeClassifier(random_state=42)"
            ],
            "text/html": [
              "<style>#sk-container-id-2 {color: black;background-color: white;}#sk-container-id-2 pre{padding: 0;}#sk-container-id-2 div.sk-toggleable {background-color: white;}#sk-container-id-2 label.sk-toggleable__label {cursor: pointer;display: block;width: 100%;margin-bottom: 0;padding: 0.3em;box-sizing: border-box;text-align: center;}#sk-container-id-2 label.sk-toggleable__label-arrow:before {content: \"▸\";float: left;margin-right: 0.25em;color: #696969;}#sk-container-id-2 label.sk-toggleable__label-arrow:hover:before {color: black;}#sk-container-id-2 div.sk-estimator:hover label.sk-toggleable__label-arrow:before {color: black;}#sk-container-id-2 div.sk-toggleable__content {max-height: 0;max-width: 0;overflow: hidden;text-align: left;background-color: #f0f8ff;}#sk-container-id-2 div.sk-toggleable__content pre {margin: 0.2em;color: black;border-radius: 0.25em;background-color: #f0f8ff;}#sk-container-id-2 input.sk-toggleable__control:checked~div.sk-toggleable__content {max-height: 200px;max-width: 100%;overflow: auto;}#sk-container-id-2 input.sk-toggleable__control:checked~label.sk-toggleable__label-arrow:before {content: \"▾\";}#sk-container-id-2 div.sk-estimator input.sk-toggleable__control:checked~label.sk-toggleable__label {background-color: #d4ebff;}#sk-container-id-2 div.sk-label input.sk-toggleable__control:checked~label.sk-toggleable__label {background-color: #d4ebff;}#sk-container-id-2 input.sk-hidden--visually {border: 0;clip: rect(1px 1px 1px 1px);clip: rect(1px, 1px, 1px, 1px);height: 1px;margin: -1px;overflow: hidden;padding: 0;position: absolute;width: 1px;}#sk-container-id-2 div.sk-estimator {font-family: monospace;background-color: #f0f8ff;border: 1px dotted black;border-radius: 0.25em;box-sizing: border-box;margin-bottom: 0.5em;}#sk-container-id-2 div.sk-estimator:hover {background-color: #d4ebff;}#sk-container-id-2 div.sk-parallel-item::after {content: \"\";width: 100%;border-bottom: 1px solid gray;flex-grow: 1;}#sk-container-id-2 div.sk-label:hover label.sk-toggleable__label {background-color: #d4ebff;}#sk-container-id-2 div.sk-serial::before {content: \"\";position: absolute;border-left: 1px solid gray;box-sizing: border-box;top: 0;bottom: 0;left: 50%;z-index: 0;}#sk-container-id-2 div.sk-serial {display: flex;flex-direction: column;align-items: center;background-color: white;padding-right: 0.2em;padding-left: 0.2em;position: relative;}#sk-container-id-2 div.sk-item {position: relative;z-index: 1;}#sk-container-id-2 div.sk-parallel {display: flex;align-items: stretch;justify-content: center;background-color: white;position: relative;}#sk-container-id-2 div.sk-item::before, #sk-container-id-2 div.sk-parallel-item::before {content: \"\";position: absolute;border-left: 1px solid gray;box-sizing: border-box;top: 0;bottom: 0;left: 50%;z-index: -1;}#sk-container-id-2 div.sk-parallel-item {display: flex;flex-direction: column;z-index: 1;position: relative;background-color: white;}#sk-container-id-2 div.sk-parallel-item:first-child::after {align-self: flex-end;width: 50%;}#sk-container-id-2 div.sk-parallel-item:last-child::after {align-self: flex-start;width: 50%;}#sk-container-id-2 div.sk-parallel-item:only-child::after {width: 0;}#sk-container-id-2 div.sk-dashed-wrapped {border: 1px dashed gray;margin: 0 0.4em 0.5em 0.4em;box-sizing: border-box;padding-bottom: 0.4em;background-color: white;}#sk-container-id-2 div.sk-label label {font-family: monospace;font-weight: bold;display: inline-block;line-height: 1.2em;}#sk-container-id-2 div.sk-label-container {text-align: center;}#sk-container-id-2 div.sk-container {/* jupyter's `normalize.less` sets `[hidden] { display: none; }` but bootstrap.min.css set `[hidden] { display: none !important; }` so we also need the `!important` here to be able to override the default hidden behavior on the sphinx rendered scikit-learn.org. See: https://github.com/scikit-learn/scikit-learn/issues/21755 */display: inline-block !important;position: relative;}#sk-container-id-2 div.sk-text-repr-fallback {display: none;}</style><div id=\"sk-container-id-2\" class=\"sk-top-container\"><div class=\"sk-text-repr-fallback\"><pre>DecisionTreeClassifier(random_state=42)</pre><b>In a Jupyter environment, please rerun this cell to show the HTML representation or trust the notebook. <br />On GitHub, the HTML representation is unable to render, please try loading this page with nbviewer.org.</b></div><div class=\"sk-container\" hidden><div class=\"sk-item\"><div class=\"sk-estimator sk-toggleable\"><input class=\"sk-toggleable__control sk-hidden--visually\" id=\"sk-estimator-id-2\" type=\"checkbox\" checked><label for=\"sk-estimator-id-2\" class=\"sk-toggleable__label sk-toggleable__label-arrow\">DecisionTreeClassifier</label><div class=\"sk-toggleable__content\"><pre>DecisionTreeClassifier(random_state=42)</pre></div></div></div></div></div>"
            ]
          },
          "metadata": {},
          "execution_count": 30
        }
      ]
    },
    {
      "cell_type": "code",
      "source": [
        "# 테스트 데이터에 대한 예측\n",
        "y_pred = model.predict(X_test)"
      ],
      "metadata": {
        "id": "w_6a7WO5ukDi"
      },
      "execution_count": 31,
      "outputs": []
    },
    {
      "cell_type": "code",
      "source": [
        "# 성능 평가\n",
        "accuracy = accuracy_score(y_test, y_pred)\n",
        "print(f'모델 정확도: {accuracy:.2f}')"
      ],
      "metadata": {
        "colab": {
          "base_uri": "https://localhost:8080/"
        },
        "id": "xL_caz5TumhR",
        "outputId": "7e43e9ee-e5cc-4245-af25-2f51e49b41c1"
      },
      "execution_count": 32,
      "outputs": [
        {
          "output_type": "stream",
          "name": "stdout",
          "text": [
            "모델 정확도: 0.97\n"
          ]
        }
      ]
    },
    {
      "cell_type": "code",
      "source": [
        "# 트리 시각화 (Graphviz)\n",
        "dot_data = export_graphviz(model, out_file=None,\n",
        "                           feature_names=X.columns,\n",
        "                           class_names=[str(c) for c in y.unique()],  # y의 고유값을 사용하여 클래스 이름 설정\n",
        "                           filled=True, rounded=True, special_characters=True)\n",
        "display(graphviz.Source(dot_data))"
      ],
      "metadata": {
        "colab": {
          "base_uri": "https://localhost:8080/",
          "height": 1000
        },
        "id": "9YBSVeJ-uoHT",
        "outputId": "868588be-be61-42b0-da5e-b7d6f2479326"
      },
      "execution_count": 33,
      "outputs": [
        {
          "output_type": "display_data",
          "data": {
            "image/svg+xml": "<?xml version=\"1.0\" encoding=\"UTF-8\" standalone=\"no\"?>\n<!DOCTYPE svg PUBLIC \"-//W3C//DTD SVG 1.1//EN\"\n \"http://www.w3.org/Graphics/SVG/1.1/DTD/svg11.dtd\">\n<!-- Generated by graphviz version 2.43.0 (0)\n -->\n<!-- Title: Tree Pages: 1 -->\n<svg width=\"961pt\" height=\"790pt\"\n viewBox=\"0.00 0.00 961.00 790.00\" xmlns=\"http://www.w3.org/2000/svg\" xmlns:xlink=\"http://www.w3.org/1999/xlink\">\n<g id=\"graph0\" class=\"graph\" transform=\"scale(1 1) rotate(0) translate(4 786)\">\n<title>Tree</title>\n<polygon fill=\"white\" stroke=\"transparent\" points=\"-4,4 -4,-786 957,-786 957,4 -4,4\"/>\n<!-- 0 -->\n<g id=\"node1\" class=\"node\">\n<title>0</title>\n<path fill=\"#eca572\" stroke=\"black\" d=\"M519.5,-782C519.5,-782 418.5,-782 418.5,-782 412.5,-782 406.5,-776 406.5,-770 406.5,-770 406.5,-711 406.5,-711 406.5,-705 412.5,-699 418.5,-699 418.5,-699 519.5,-699 519.5,-699 525.5,-699 531.5,-705 531.5,-711 531.5,-711 531.5,-770 531.5,-770 531.5,-776 525.5,-782 519.5,-782\"/>\n<text text-anchor=\"start\" x=\"434.5\" y=\"-766.8\" font-family=\"Helvetica,sans-Serif\" font-size=\"14.00\">나이 ≤ 35.0</text>\n<text text-anchor=\"start\" x=\"433.5\" y=\"-751.8\" font-family=\"Helvetica,sans-Serif\" font-size=\"14.00\">gini = 0.347</text>\n<text text-anchor=\"start\" x=\"424\" y=\"-736.8\" font-family=\"Helvetica,sans-Serif\" font-size=\"14.00\">samples = 800</text>\n<text text-anchor=\"start\" x=\"414.5\" y=\"-721.8\" font-family=\"Helvetica,sans-Serif\" font-size=\"14.00\">value = [621, 179]</text>\n<text text-anchor=\"start\" x=\"441.5\" y=\"-706.8\" font-family=\"Helvetica,sans-Serif\" font-size=\"14.00\">class = 0</text>\n</g>\n<!-- 1 -->\n<g id=\"node2\" class=\"node\">\n<title>1</title>\n<path fill=\"#e6843e\" stroke=\"black\" d=\"M408.5,-663C408.5,-663 315.5,-663 315.5,-663 309.5,-663 303.5,-657 303.5,-651 303.5,-651 303.5,-592 303.5,-592 303.5,-586 309.5,-580 315.5,-580 315.5,-580 408.5,-580 408.5,-580 414.5,-580 420.5,-586 420.5,-592 420.5,-592 420.5,-651 420.5,-651 420.5,-657 414.5,-663 408.5,-663\"/>\n<text text-anchor=\"start\" x=\"312\" y=\"-647.8\" font-family=\"Helvetica,sans-Serif\" font-size=\"14.00\">근속 연수 ≤ 12.5</text>\n<text text-anchor=\"start\" x=\"326.5\" y=\"-632.8\" font-family=\"Helvetica,sans-Serif\" font-size=\"14.00\">gini = 0.052</text>\n<text text-anchor=\"start\" x=\"317\" y=\"-617.8\" font-family=\"Helvetica,sans-Serif\" font-size=\"14.00\">samples = 633</text>\n<text text-anchor=\"start\" x=\"311.5\" y=\"-602.8\" font-family=\"Helvetica,sans-Serif\" font-size=\"14.00\">value = [616, 17]</text>\n<text text-anchor=\"start\" x=\"334.5\" y=\"-587.8\" font-family=\"Helvetica,sans-Serif\" font-size=\"14.00\">class = 0</text>\n</g>\n<!-- 0&#45;&gt;1 -->\n<g id=\"edge1\" class=\"edge\">\n<title>0&#45;&gt;1</title>\n<path fill=\"none\" stroke=\"black\" d=\"M431.88,-698.91C423.49,-689.74 414.52,-679.93 405.89,-670.49\"/>\n<polygon fill=\"black\" stroke=\"black\" points=\"408.39,-668.04 399.06,-663.02 403.22,-672.76 408.39,-668.04\"/>\n<text text-anchor=\"middle\" x=\"397.94\" y=\"-684.3\" font-family=\"Helvetica,sans-Serif\" font-size=\"14.00\">True</text>\n</g>\n<!-- 14 -->\n<g id=\"node15\" class=\"node\">\n<title>14</title>\n<path fill=\"#3fa0e6\" stroke=\"black\" d=\"M634,-663C634,-663 542,-663 542,-663 536,-663 530,-657 530,-651 530,-651 530,-592 530,-592 530,-586 536,-580 542,-580 542,-580 634,-580 634,-580 640,-580 646,-586 646,-592 646,-592 646,-651 646,-651 646,-657 640,-663 634,-663\"/>\n<text text-anchor=\"start\" x=\"538\" y=\"-647.8\" font-family=\"Helvetica,sans-Serif\" font-size=\"14.00\">근속 연수 ≤ 12.5</text>\n<text text-anchor=\"start\" x=\"552.5\" y=\"-632.8\" font-family=\"Helvetica,sans-Serif\" font-size=\"14.00\">gini = 0.058</text>\n<text text-anchor=\"start\" x=\"543\" y=\"-617.8\" font-family=\"Helvetica,sans-Serif\" font-size=\"14.00\">samples = 167</text>\n<text text-anchor=\"start\" x=\"541\" y=\"-602.8\" font-family=\"Helvetica,sans-Serif\" font-size=\"14.00\">value = [5, 162]</text>\n<text text-anchor=\"start\" x=\"560.5\" y=\"-587.8\" font-family=\"Helvetica,sans-Serif\" font-size=\"14.00\">class = 1</text>\n</g>\n<!-- 0&#45;&gt;14 -->\n<g id=\"edge14\" class=\"edge\">\n<title>0&#45;&gt;14</title>\n<path fill=\"none\" stroke=\"black\" d=\"M510.29,-698.91C519.7,-689.65 529.79,-679.73 539.48,-670.21\"/>\n<polygon fill=\"black\" stroke=\"black\" points=\"542.11,-672.53 546.79,-663.02 537.2,-667.54 542.11,-672.53\"/>\n<text text-anchor=\"middle\" x=\"546.57\" y=\"-684.32\" font-family=\"Helvetica,sans-Serif\" font-size=\"14.00\">False</text>\n</g>\n<!-- 2 -->\n<g id=\"node3\" class=\"node\">\n<title>2</title>\n<path fill=\"#e6843d\" stroke=\"black\" d=\"M233.5,-544C233.5,-544 140.5,-544 140.5,-544 134.5,-544 128.5,-538 128.5,-532 128.5,-532 128.5,-473 128.5,-473 128.5,-467 134.5,-461 140.5,-461 140.5,-461 233.5,-461 233.5,-461 239.5,-461 245.5,-467 245.5,-473 245.5,-473 245.5,-532 245.5,-532 245.5,-538 239.5,-544 233.5,-544\"/>\n<text text-anchor=\"start\" x=\"141\" y=\"-528.8\" font-family=\"Helvetica,sans-Serif\" font-size=\"14.00\">근속 연수 ≤ 8.5</text>\n<text text-anchor=\"start\" x=\"151.5\" y=\"-513.8\" font-family=\"Helvetica,sans-Serif\" font-size=\"14.00\">gini = 0.041</text>\n<text text-anchor=\"start\" x=\"142\" y=\"-498.8\" font-family=\"Helvetica,sans-Serif\" font-size=\"14.00\">samples = 628</text>\n<text text-anchor=\"start\" x=\"136.5\" y=\"-483.8\" font-family=\"Helvetica,sans-Serif\" font-size=\"14.00\">value = [615, 13]</text>\n<text text-anchor=\"start\" x=\"159.5\" y=\"-468.8\" font-family=\"Helvetica,sans-Serif\" font-size=\"14.00\">class = 0</text>\n</g>\n<!-- 1&#45;&gt;2 -->\n<g id=\"edge2\" class=\"edge\">\n<title>1&#45;&gt;2</title>\n<path fill=\"none\" stroke=\"black\" d=\"M303.24,-581.22C287.43,-570.64 270.21,-559.13 253.98,-548.28\"/>\n<polygon fill=\"black\" stroke=\"black\" points=\"255.86,-545.33 245.6,-542.68 251.97,-551.15 255.86,-545.33\"/>\n</g>\n<!-- 11 -->\n<g id=\"node12\" class=\"node\">\n<title>11</title>\n<path fill=\"#6ab6ec\" stroke=\"black\" d=\"M408,-544C408,-544 316,-544 316,-544 310,-544 304,-538 304,-532 304,-532 304,-473 304,-473 304,-467 310,-461 316,-461 316,-461 408,-461 408,-461 414,-461 420,-467 420,-473 420,-473 420,-532 420,-532 420,-538 414,-544 408,-544\"/>\n<text text-anchor=\"start\" x=\"312\" y=\"-528.8\" font-family=\"Helvetica,sans-Serif\" font-size=\"14.00\">근속 연수 ≤ 13.5</text>\n<text text-anchor=\"start\" x=\"330\" y=\"-513.8\" font-family=\"Helvetica,sans-Serif\" font-size=\"14.00\">gini = 0.32</text>\n<text text-anchor=\"start\" x=\"324.5\" y=\"-498.8\" font-family=\"Helvetica,sans-Serif\" font-size=\"14.00\">samples = 5</text>\n<text text-anchor=\"start\" x=\"322.5\" y=\"-483.8\" font-family=\"Helvetica,sans-Serif\" font-size=\"14.00\">value = [1, 4]</text>\n<text text-anchor=\"start\" x=\"334.5\" y=\"-468.8\" font-family=\"Helvetica,sans-Serif\" font-size=\"14.00\">class = 1</text>\n</g>\n<!-- 1&#45;&gt;11 -->\n<g id=\"edge11\" class=\"edge\">\n<title>1&#45;&gt;11</title>\n<path fill=\"none\" stroke=\"black\" d=\"M362,-579.91C362,-571.65 362,-562.86 362,-554.3\"/>\n<polygon fill=\"black\" stroke=\"black\" points=\"365.5,-554.02 362,-544.02 358.5,-554.02 365.5,-554.02\"/>\n</g>\n<!-- 3 -->\n<g id=\"node4\" class=\"node\">\n<title>3</title>\n<path fill=\"#e58139\" stroke=\"black\" d=\"M98,-417.5C98,-417.5 12,-417.5 12,-417.5 6,-417.5 0,-411.5 0,-405.5 0,-405.5 0,-361.5 0,-361.5 0,-355.5 6,-349.5 12,-349.5 12,-349.5 98,-349.5 98,-349.5 104,-349.5 110,-355.5 110,-361.5 110,-361.5 110,-405.5 110,-405.5 110,-411.5 104,-417.5 98,-417.5\"/>\n<text text-anchor=\"start\" x=\"27\" y=\"-402.3\" font-family=\"Helvetica,sans-Serif\" font-size=\"14.00\">gini = 0.0</text>\n<text text-anchor=\"start\" x=\"10\" y=\"-387.3\" font-family=\"Helvetica,sans-Serif\" font-size=\"14.00\">samples = 494</text>\n<text text-anchor=\"start\" x=\"8\" y=\"-372.3\" font-family=\"Helvetica,sans-Serif\" font-size=\"14.00\">value = [494, 0]</text>\n<text text-anchor=\"start\" x=\"27.5\" y=\"-357.3\" font-family=\"Helvetica,sans-Serif\" font-size=\"14.00\">class = 0</text>\n</g>\n<!-- 2&#45;&gt;3 -->\n<g id=\"edge3\" class=\"edge\">\n<title>2&#45;&gt;3</title>\n<path fill=\"none\" stroke=\"black\" d=\"M141.2,-460.91C127.88,-449.1 113.35,-436.22 100.07,-424.45\"/>\n<polygon fill=\"black\" stroke=\"black\" points=\"102.22,-421.68 92.42,-417.67 97.58,-426.92 102.22,-421.68\"/>\n</g>\n<!-- 4 -->\n<g id=\"node5\" class=\"node\">\n<title>4</title>\n<path fill=\"#e88f4e\" stroke=\"black\" d=\"M233.5,-425C233.5,-425 140.5,-425 140.5,-425 134.5,-425 128.5,-419 128.5,-413 128.5,-413 128.5,-354 128.5,-354 128.5,-348 134.5,-342 140.5,-342 140.5,-342 233.5,-342 233.5,-342 239.5,-342 245.5,-348 245.5,-354 245.5,-354 245.5,-413 245.5,-413 245.5,-419 239.5,-425 233.5,-425\"/>\n<text text-anchor=\"start\" x=\"137\" y=\"-409.8\" font-family=\"Helvetica,sans-Serif\" font-size=\"14.00\">근속 연수 ≤ 11.5</text>\n<text text-anchor=\"start\" x=\"151.5\" y=\"-394.8\" font-family=\"Helvetica,sans-Serif\" font-size=\"14.00\">gini = 0.175</text>\n<text text-anchor=\"start\" x=\"142\" y=\"-379.8\" font-family=\"Helvetica,sans-Serif\" font-size=\"14.00\">samples = 134</text>\n<text text-anchor=\"start\" x=\"136.5\" y=\"-364.8\" font-family=\"Helvetica,sans-Serif\" font-size=\"14.00\">value = [121, 13]</text>\n<text text-anchor=\"start\" x=\"159.5\" y=\"-349.8\" font-family=\"Helvetica,sans-Serif\" font-size=\"14.00\">class = 0</text>\n</g>\n<!-- 2&#45;&gt;4 -->\n<g id=\"edge4\" class=\"edge\">\n<title>2&#45;&gt;4</title>\n<path fill=\"none\" stroke=\"black\" d=\"M187,-460.91C187,-452.65 187,-443.86 187,-435.3\"/>\n<polygon fill=\"black\" stroke=\"black\" points=\"190.5,-435.02 187,-425.02 183.5,-435.02 190.5,-435.02\"/>\n</g>\n<!-- 5 -->\n<g id=\"node6\" class=\"node\">\n<title>5</title>\n<path fill=\"#e78d4c\" stroke=\"black\" d=\"M169.5,-306C169.5,-306 76.5,-306 76.5,-306 70.5,-306 64.5,-300 64.5,-294 64.5,-294 64.5,-235 64.5,-235 64.5,-229 70.5,-223 76.5,-223 76.5,-223 169.5,-223 169.5,-223 175.5,-223 181.5,-229 181.5,-235 181.5,-235 181.5,-294 181.5,-294 181.5,-300 175.5,-306 169.5,-306\"/>\n<text text-anchor=\"start\" x=\"77\" y=\"-290.8\" font-family=\"Helvetica,sans-Serif\" font-size=\"14.00\">근속 연수 ≤ 9.5</text>\n<text text-anchor=\"start\" x=\"87.5\" y=\"-275.8\" font-family=\"Helvetica,sans-Serif\" font-size=\"14.00\">gini = 0.159</text>\n<text text-anchor=\"start\" x=\"78\" y=\"-260.8\" font-family=\"Helvetica,sans-Serif\" font-size=\"14.00\">samples = 115</text>\n<text text-anchor=\"start\" x=\"72.5\" y=\"-245.8\" font-family=\"Helvetica,sans-Serif\" font-size=\"14.00\">value = [105, 10]</text>\n<text text-anchor=\"start\" x=\"95.5\" y=\"-230.8\" font-family=\"Helvetica,sans-Serif\" font-size=\"14.00\">class = 0</text>\n</g>\n<!-- 4&#45;&gt;5 -->\n<g id=\"edge5\" class=\"edge\">\n<title>4&#45;&gt;5</title>\n<path fill=\"none\" stroke=\"black\" d=\"M164.8,-341.91C160.03,-333.2 154.94,-323.9 150.02,-314.89\"/>\n<polygon fill=\"black\" stroke=\"black\" points=\"153.03,-313.11 145.17,-306.02 146.89,-316.47 153.03,-313.11\"/>\n</g>\n<!-- 10 -->\n<g id=\"node11\" class=\"node\">\n<title>10</title>\n<path fill=\"#ea995e\" stroke=\"black\" d=\"M290,-298.5C290,-298.5 212,-298.5 212,-298.5 206,-298.5 200,-292.5 200,-286.5 200,-286.5 200,-242.5 200,-242.5 200,-236.5 206,-230.5 212,-230.5 212,-230.5 290,-230.5 290,-230.5 296,-230.5 302,-236.5 302,-242.5 302,-242.5 302,-286.5 302,-286.5 302,-292.5 296,-298.5 290,-298.5\"/>\n<text text-anchor=\"start\" x=\"215.5\" y=\"-283.3\" font-family=\"Helvetica,sans-Serif\" font-size=\"14.00\">gini = 0.266</text>\n<text text-anchor=\"start\" x=\"210\" y=\"-268.3\" font-family=\"Helvetica,sans-Serif\" font-size=\"14.00\">samples = 19</text>\n<text text-anchor=\"start\" x=\"208\" y=\"-253.3\" font-family=\"Helvetica,sans-Serif\" font-size=\"14.00\">value = [16, 3]</text>\n<text text-anchor=\"start\" x=\"223.5\" y=\"-238.3\" font-family=\"Helvetica,sans-Serif\" font-size=\"14.00\">class = 0</text>\n</g>\n<!-- 4&#45;&gt;10 -->\n<g id=\"edge10\" class=\"edge\">\n<title>4&#45;&gt;10</title>\n<path fill=\"none\" stroke=\"black\" d=\"M209.2,-341.91C215.24,-330.87 221.79,-318.9 227.88,-307.77\"/>\n<polygon fill=\"black\" stroke=\"black\" points=\"231.13,-309.12 232.86,-298.67 224.99,-305.76 231.13,-309.12\"/>\n</g>\n<!-- 6 -->\n<g id=\"node7\" class=\"node\">\n<title>6</title>\n<path fill=\"#e78c49\" stroke=\"black\" d=\"M99,-179.5C99,-179.5 21,-179.5 21,-179.5 15,-179.5 9,-173.5 9,-167.5 9,-167.5 9,-123.5 9,-123.5 9,-117.5 15,-111.5 21,-111.5 21,-111.5 99,-111.5 99,-111.5 105,-111.5 111,-117.5 111,-123.5 111,-123.5 111,-167.5 111,-167.5 111,-173.5 105,-179.5 99,-179.5\"/>\n<text text-anchor=\"start\" x=\"24.5\" y=\"-164.3\" font-family=\"Helvetica,sans-Serif\" font-size=\"14.00\">gini = 0.142</text>\n<text text-anchor=\"start\" x=\"19\" y=\"-149.3\" font-family=\"Helvetica,sans-Serif\" font-size=\"14.00\">samples = 52</text>\n<text text-anchor=\"start\" x=\"17\" y=\"-134.3\" font-family=\"Helvetica,sans-Serif\" font-size=\"14.00\">value = [48, 4]</text>\n<text text-anchor=\"start\" x=\"32.5\" y=\"-119.3\" font-family=\"Helvetica,sans-Serif\" font-size=\"14.00\">class = 0</text>\n</g>\n<!-- 5&#45;&gt;6 -->\n<g id=\"edge6\" class=\"edge\">\n<title>5&#45;&gt;6</title>\n<path fill=\"none\" stroke=\"black\" d=\"M101.14,-222.91C95.2,-211.87 88.75,-199.9 82.76,-188.77\"/>\n<polygon fill=\"black\" stroke=\"black\" points=\"85.68,-186.81 77.86,-179.67 79.52,-190.13 85.68,-186.81\"/>\n</g>\n<!-- 7 -->\n<g id=\"node8\" class=\"node\">\n<title>7</title>\n<path fill=\"#e88e4e\" stroke=\"black\" d=\"M233,-187C233,-187 141,-187 141,-187 135,-187 129,-181 129,-175 129,-175 129,-116 129,-116 129,-110 135,-104 141,-104 141,-104 233,-104 233,-104 239,-104 245,-110 245,-116 245,-116 245,-175 245,-175 245,-181 239,-187 233,-187\"/>\n<text text-anchor=\"start\" x=\"137\" y=\"-171.8\" font-family=\"Helvetica,sans-Serif\" font-size=\"14.00\">근속 연수 ≤ 10.5</text>\n<text text-anchor=\"start\" x=\"151.5\" y=\"-156.8\" font-family=\"Helvetica,sans-Serif\" font-size=\"14.00\">gini = 0.172</text>\n<text text-anchor=\"start\" x=\"146\" y=\"-141.8\" font-family=\"Helvetica,sans-Serif\" font-size=\"14.00\">samples = 63</text>\n<text text-anchor=\"start\" x=\"144\" y=\"-126.8\" font-family=\"Helvetica,sans-Serif\" font-size=\"14.00\">value = [57, 6]</text>\n<text text-anchor=\"start\" x=\"159.5\" y=\"-111.8\" font-family=\"Helvetica,sans-Serif\" font-size=\"14.00\">class = 0</text>\n</g>\n<!-- 5&#45;&gt;7 -->\n<g id=\"edge7\" class=\"edge\">\n<title>5&#45;&gt;7</title>\n<path fill=\"none\" stroke=\"black\" d=\"M145.2,-222.91C149.97,-214.2 155.06,-204.9 159.98,-195.89\"/>\n<polygon fill=\"black\" stroke=\"black\" points=\"163.11,-197.47 164.83,-187.02 156.97,-194.11 163.11,-197.47\"/>\n</g>\n<!-- 8 -->\n<g id=\"node9\" class=\"node\">\n<title>8</title>\n<path fill=\"#e99355\" stroke=\"black\" d=\"M166,-68C166,-68 88,-68 88,-68 82,-68 76,-62 76,-56 76,-56 76,-12 76,-12 76,-6 82,0 88,0 88,0 166,0 166,0 172,0 178,-6 178,-12 178,-12 178,-56 178,-56 178,-62 172,-68 166,-68\"/>\n<text text-anchor=\"start\" x=\"91.5\" y=\"-52.8\" font-family=\"Helvetica,sans-Serif\" font-size=\"14.00\">gini = 0.219</text>\n<text text-anchor=\"start\" x=\"86\" y=\"-37.8\" font-family=\"Helvetica,sans-Serif\" font-size=\"14.00\">samples = 16</text>\n<text text-anchor=\"start\" x=\"84\" y=\"-22.8\" font-family=\"Helvetica,sans-Serif\" font-size=\"14.00\">value = [14, 2]</text>\n<text text-anchor=\"start\" x=\"99.5\" y=\"-7.8\" font-family=\"Helvetica,sans-Serif\" font-size=\"14.00\">class = 0</text>\n</g>\n<!-- 7&#45;&gt;8 -->\n<g id=\"edge8\" class=\"edge\">\n<title>7&#45;&gt;8</title>\n<path fill=\"none\" stroke=\"black\" d=\"M164.66,-103.73C159.91,-95.06 154.89,-85.9 150.11,-77.18\"/>\n<polygon fill=\"black\" stroke=\"black\" points=\"153.12,-75.39 145.25,-68.3 146.98,-78.75 153.12,-75.39\"/>\n</g>\n<!-- 9 -->\n<g id=\"node10\" class=\"node\">\n<title>9</title>\n<path fill=\"#e78d4b\" stroke=\"black\" d=\"M286,-68C286,-68 208,-68 208,-68 202,-68 196,-62 196,-56 196,-56 196,-12 196,-12 196,-6 202,0 208,0 208,0 286,0 286,0 292,0 298,-6 298,-12 298,-12 298,-56 298,-56 298,-62 292,-68 286,-68\"/>\n<text text-anchor=\"start\" x=\"211.5\" y=\"-52.8\" font-family=\"Helvetica,sans-Serif\" font-size=\"14.00\">gini = 0.156</text>\n<text text-anchor=\"start\" x=\"206\" y=\"-37.8\" font-family=\"Helvetica,sans-Serif\" font-size=\"14.00\">samples = 47</text>\n<text text-anchor=\"start\" x=\"204\" y=\"-22.8\" font-family=\"Helvetica,sans-Serif\" font-size=\"14.00\">value = [43, 4]</text>\n<text text-anchor=\"start\" x=\"219.5\" y=\"-7.8\" font-family=\"Helvetica,sans-Serif\" font-size=\"14.00\">class = 0</text>\n</g>\n<!-- 7&#45;&gt;9 -->\n<g id=\"edge9\" class=\"edge\">\n<title>7&#45;&gt;9</title>\n<path fill=\"none\" stroke=\"black\" d=\"M209.34,-103.73C214.09,-95.06 219.11,-85.9 223.89,-77.18\"/>\n<polygon fill=\"black\" stroke=\"black\" points=\"227.02,-78.75 228.75,-68.3 220.88,-75.39 227.02,-78.75\"/>\n</g>\n<!-- 12 -->\n<g id=\"node13\" class=\"node\">\n<title>12</title>\n<path fill=\"#399de5\" stroke=\"black\" d=\"M346.5,-417.5C346.5,-417.5 275.5,-417.5 275.5,-417.5 269.5,-417.5 263.5,-411.5 263.5,-405.5 263.5,-405.5 263.5,-361.5 263.5,-361.5 263.5,-355.5 269.5,-349.5 275.5,-349.5 275.5,-349.5 346.5,-349.5 346.5,-349.5 352.5,-349.5 358.5,-355.5 358.5,-361.5 358.5,-361.5 358.5,-405.5 358.5,-405.5 358.5,-411.5 352.5,-417.5 346.5,-417.5\"/>\n<text text-anchor=\"start\" x=\"283\" y=\"-402.3\" font-family=\"Helvetica,sans-Serif\" font-size=\"14.00\">gini = 0.0</text>\n<text text-anchor=\"start\" x=\"273.5\" y=\"-387.3\" font-family=\"Helvetica,sans-Serif\" font-size=\"14.00\">samples = 1</text>\n<text text-anchor=\"start\" x=\"271.5\" y=\"-372.3\" font-family=\"Helvetica,sans-Serif\" font-size=\"14.00\">value = [0, 1]</text>\n<text text-anchor=\"start\" x=\"283.5\" y=\"-357.3\" font-family=\"Helvetica,sans-Serif\" font-size=\"14.00\">class = 1</text>\n</g>\n<!-- 11&#45;&gt;12 -->\n<g id=\"edge12\" class=\"edge\">\n<title>11&#45;&gt;12</title>\n<path fill=\"none\" stroke=\"black\" d=\"M344.31,-460.91C339.54,-449.98 334.38,-438.14 329.57,-427.11\"/>\n<polygon fill=\"black\" stroke=\"black\" points=\"332.66,-425.44 325.46,-417.67 326.24,-428.23 332.66,-425.44\"/>\n</g>\n<!-- 13 -->\n<g id=\"node14\" class=\"node\">\n<title>13</title>\n<path fill=\"#7bbeee\" stroke=\"black\" d=\"M459.5,-417.5C459.5,-417.5 388.5,-417.5 388.5,-417.5 382.5,-417.5 376.5,-411.5 376.5,-405.5 376.5,-405.5 376.5,-361.5 376.5,-361.5 376.5,-355.5 382.5,-349.5 388.5,-349.5 388.5,-349.5 459.5,-349.5 459.5,-349.5 465.5,-349.5 471.5,-355.5 471.5,-361.5 471.5,-361.5 471.5,-405.5 471.5,-405.5 471.5,-411.5 465.5,-417.5 459.5,-417.5\"/>\n<text text-anchor=\"start\" x=\"388.5\" y=\"-402.3\" font-family=\"Helvetica,sans-Serif\" font-size=\"14.00\">gini = 0.375</text>\n<text text-anchor=\"start\" x=\"386.5\" y=\"-387.3\" font-family=\"Helvetica,sans-Serif\" font-size=\"14.00\">samples = 4</text>\n<text text-anchor=\"start\" x=\"384.5\" y=\"-372.3\" font-family=\"Helvetica,sans-Serif\" font-size=\"14.00\">value = [1, 3]</text>\n<text text-anchor=\"start\" x=\"396.5\" y=\"-357.3\" font-family=\"Helvetica,sans-Serif\" font-size=\"14.00\">class = 1</text>\n</g>\n<!-- 11&#45;&gt;13 -->\n<g id=\"edge13\" class=\"edge\">\n<title>11&#45;&gt;13</title>\n<path fill=\"none\" stroke=\"black\" d=\"M383.51,-460.91C389.36,-449.87 395.7,-437.9 401.6,-426.77\"/>\n<polygon fill=\"black\" stroke=\"black\" points=\"404.83,-428.14 406.42,-417.67 398.65,-424.86 404.83,-428.14\"/>\n</g>\n<!-- 15 -->\n<g id=\"node16\" class=\"node\">\n<title>15</title>\n<path fill=\"#6ab6ec\" stroke=\"black\" d=\"M634,-544C634,-544 542,-544 542,-544 536,-544 530,-538 530,-532 530,-532 530,-473 530,-473 530,-467 536,-461 542,-461 542,-461 634,-461 634,-461 640,-461 646,-467 646,-473 646,-473 646,-532 646,-532 646,-538 640,-544 634,-544\"/>\n<text text-anchor=\"start\" x=\"538\" y=\"-528.8\" font-family=\"Helvetica,sans-Serif\" font-size=\"14.00\">근속 연수 ≤ 11.5</text>\n<text text-anchor=\"start\" x=\"556\" y=\"-513.8\" font-family=\"Helvetica,sans-Serif\" font-size=\"14.00\">gini = 0.32</text>\n<text text-anchor=\"start\" x=\"547\" y=\"-498.8\" font-family=\"Helvetica,sans-Serif\" font-size=\"14.00\">samples = 20</text>\n<text text-anchor=\"start\" x=\"545\" y=\"-483.8\" font-family=\"Helvetica,sans-Serif\" font-size=\"14.00\">value = [4, 16]</text>\n<text text-anchor=\"start\" x=\"560.5\" y=\"-468.8\" font-family=\"Helvetica,sans-Serif\" font-size=\"14.00\">class = 1</text>\n</g>\n<!-- 14&#45;&gt;15 -->\n<g id=\"edge15\" class=\"edge\">\n<title>14&#45;&gt;15</title>\n<path fill=\"none\" stroke=\"black\" d=\"M588,-579.91C588,-571.65 588,-562.86 588,-554.3\"/>\n<polygon fill=\"black\" stroke=\"black\" points=\"591.5,-554.02 588,-544.02 584.5,-554.02 591.5,-554.02\"/>\n</g>\n<!-- 18 -->\n<g id=\"node19\" class=\"node\">\n<title>18</title>\n<path fill=\"#3a9ee5\" stroke=\"black\" d=\"M820,-544C820,-544 728,-544 728,-544 722,-544 716,-538 716,-532 716,-532 716,-473 716,-473 716,-467 722,-461 728,-461 728,-461 820,-461 820,-461 826,-461 832,-467 832,-473 832,-473 832,-532 832,-532 832,-538 826,-544 820,-544\"/>\n<text text-anchor=\"start\" x=\"724\" y=\"-528.8\" font-family=\"Helvetica,sans-Serif\" font-size=\"14.00\">근속 연수 ≤ 13.5</text>\n<text text-anchor=\"start\" x=\"738.5\" y=\"-513.8\" font-family=\"Helvetica,sans-Serif\" font-size=\"14.00\">gini = 0.014</text>\n<text text-anchor=\"start\" x=\"729\" y=\"-498.8\" font-family=\"Helvetica,sans-Serif\" font-size=\"14.00\">samples = 147</text>\n<text text-anchor=\"start\" x=\"727\" y=\"-483.8\" font-family=\"Helvetica,sans-Serif\" font-size=\"14.00\">value = [1, 146]</text>\n<text text-anchor=\"start\" x=\"746.5\" y=\"-468.8\" font-family=\"Helvetica,sans-Serif\" font-size=\"14.00\">class = 1</text>\n</g>\n<!-- 14&#45;&gt;18 -->\n<g id=\"edge18\" class=\"edge\">\n<title>14&#45;&gt;18</title>\n<path fill=\"none\" stroke=\"black\" d=\"M646.09,-583.96C665.4,-571.81 687.06,-558.19 706.99,-545.65\"/>\n<polygon fill=\"black\" stroke=\"black\" points=\"709.11,-548.45 715.71,-540.16 705.39,-542.53 709.11,-548.45\"/>\n</g>\n<!-- 16 -->\n<g id=\"node17\" class=\"node\">\n<title>16</title>\n<path fill=\"#88c4ef\" stroke=\"black\" d=\"M572.5,-417.5C572.5,-417.5 501.5,-417.5 501.5,-417.5 495.5,-417.5 489.5,-411.5 489.5,-405.5 489.5,-405.5 489.5,-361.5 489.5,-361.5 489.5,-355.5 495.5,-349.5 501.5,-349.5 501.5,-349.5 572.5,-349.5 572.5,-349.5 578.5,-349.5 584.5,-355.5 584.5,-361.5 584.5,-361.5 584.5,-405.5 584.5,-405.5 584.5,-411.5 578.5,-417.5 572.5,-417.5\"/>\n<text text-anchor=\"start\" x=\"501.5\" y=\"-402.3\" font-family=\"Helvetica,sans-Serif\" font-size=\"14.00\">gini = 0.408</text>\n<text text-anchor=\"start\" x=\"499.5\" y=\"-387.3\" font-family=\"Helvetica,sans-Serif\" font-size=\"14.00\">samples = 7</text>\n<text text-anchor=\"start\" x=\"497.5\" y=\"-372.3\" font-family=\"Helvetica,sans-Serif\" font-size=\"14.00\">value = [2, 5]</text>\n<text text-anchor=\"start\" x=\"509.5\" y=\"-357.3\" font-family=\"Helvetica,sans-Serif\" font-size=\"14.00\">class = 1</text>\n</g>\n<!-- 15&#45;&gt;16 -->\n<g id=\"edge16\" class=\"edge\">\n<title>15&#45;&gt;16</title>\n<path fill=\"none\" stroke=\"black\" d=\"M570.31,-460.91C565.54,-449.98 560.38,-438.14 555.57,-427.11\"/>\n<polygon fill=\"black\" stroke=\"black\" points=\"558.66,-425.44 551.46,-417.67 552.24,-428.23 558.66,-425.44\"/>\n</g>\n<!-- 17 -->\n<g id=\"node18\" class=\"node\">\n<title>17</title>\n<path fill=\"#5dafea\" stroke=\"black\" d=\"M693,-417.5C693,-417.5 615,-417.5 615,-417.5 609,-417.5 603,-411.5 603,-405.5 603,-405.5 603,-361.5 603,-361.5 603,-355.5 609,-349.5 615,-349.5 615,-349.5 693,-349.5 693,-349.5 699,-349.5 705,-355.5 705,-361.5 705,-361.5 705,-405.5 705,-405.5 705,-411.5 699,-417.5 693,-417.5\"/>\n<text text-anchor=\"start\" x=\"622\" y=\"-402.3\" font-family=\"Helvetica,sans-Serif\" font-size=\"14.00\">gini = 0.26</text>\n<text text-anchor=\"start\" x=\"613\" y=\"-387.3\" font-family=\"Helvetica,sans-Serif\" font-size=\"14.00\">samples = 13</text>\n<text text-anchor=\"start\" x=\"611\" y=\"-372.3\" font-family=\"Helvetica,sans-Serif\" font-size=\"14.00\">value = [2, 11]</text>\n<text text-anchor=\"start\" x=\"626.5\" y=\"-357.3\" font-family=\"Helvetica,sans-Serif\" font-size=\"14.00\">class = 1</text>\n</g>\n<!-- 15&#45;&gt;17 -->\n<g id=\"edge17\" class=\"edge\">\n<title>15&#45;&gt;17</title>\n<path fill=\"none\" stroke=\"black\" d=\"M610.9,-460.91C617.19,-449.76 624.01,-437.66 630.34,-426.44\"/>\n<polygon fill=\"black\" stroke=\"black\" points=\"633.43,-428.1 635.29,-417.67 627.33,-424.66 633.43,-428.1\"/>\n</g>\n<!-- 19 -->\n<g id=\"node20\" class=\"node\">\n<title>19</title>\n<path fill=\"#4da7e8\" stroke=\"black\" d=\"M813,-417.5C813,-417.5 735,-417.5 735,-417.5 729,-417.5 723,-411.5 723,-405.5 723,-405.5 723,-361.5 723,-361.5 723,-355.5 729,-349.5 735,-349.5 735,-349.5 813,-349.5 813,-349.5 819,-349.5 825,-355.5 825,-361.5 825,-361.5 825,-405.5 825,-405.5 825,-411.5 819,-417.5 813,-417.5\"/>\n<text text-anchor=\"start\" x=\"738.5\" y=\"-402.3\" font-family=\"Helvetica,sans-Serif\" font-size=\"14.00\">gini = 0.165</text>\n<text text-anchor=\"start\" x=\"733\" y=\"-387.3\" font-family=\"Helvetica,sans-Serif\" font-size=\"14.00\">samples = 11</text>\n<text text-anchor=\"start\" x=\"731\" y=\"-372.3\" font-family=\"Helvetica,sans-Serif\" font-size=\"14.00\">value = [1, 10]</text>\n<text text-anchor=\"start\" x=\"746.5\" y=\"-357.3\" font-family=\"Helvetica,sans-Serif\" font-size=\"14.00\">class = 1</text>\n</g>\n<!-- 18&#45;&gt;19 -->\n<g id=\"edge19\" class=\"edge\">\n<title>18&#45;&gt;19</title>\n<path fill=\"none\" stroke=\"black\" d=\"M774,-460.91C774,-450.2 774,-438.62 774,-427.78\"/>\n<polygon fill=\"black\" stroke=\"black\" points=\"777.5,-427.67 774,-417.67 770.5,-427.67 777.5,-427.67\"/>\n</g>\n<!-- 20 -->\n<g id=\"node21\" class=\"node\">\n<title>20</title>\n<path fill=\"#399de5\" stroke=\"black\" d=\"M941,-417.5C941,-417.5 855,-417.5 855,-417.5 849,-417.5 843,-411.5 843,-405.5 843,-405.5 843,-361.5 843,-361.5 843,-355.5 849,-349.5 855,-349.5 855,-349.5 941,-349.5 941,-349.5 947,-349.5 953,-355.5 953,-361.5 953,-361.5 953,-405.5 953,-405.5 953,-411.5 947,-417.5 941,-417.5\"/>\n<text text-anchor=\"start\" x=\"870\" y=\"-402.3\" font-family=\"Helvetica,sans-Serif\" font-size=\"14.00\">gini = 0.0</text>\n<text text-anchor=\"start\" x=\"853\" y=\"-387.3\" font-family=\"Helvetica,sans-Serif\" font-size=\"14.00\">samples = 136</text>\n<text text-anchor=\"start\" x=\"851\" y=\"-372.3\" font-family=\"Helvetica,sans-Serif\" font-size=\"14.00\">value = [0, 136]</text>\n<text text-anchor=\"start\" x=\"870.5\" y=\"-357.3\" font-family=\"Helvetica,sans-Serif\" font-size=\"14.00\">class = 1</text>\n</g>\n<!-- 18&#45;&gt;20 -->\n<g id=\"edge20\" class=\"edge\">\n<title>18&#45;&gt;20</title>\n<path fill=\"none\" stroke=\"black\" d=\"M817.02,-460.91C829.42,-449.21 842.93,-436.46 855.31,-424.78\"/>\n<polygon fill=\"black\" stroke=\"black\" points=\"857.98,-427.08 862.85,-417.67 853.17,-421.98 857.98,-427.08\"/>\n</g>\n</g>\n</svg>\n",
            "text/plain": [
              "<graphviz.sources.Source at 0x7dc2d25bf130>"
            ]
          },
          "metadata": {}
        }
      ]
    },
    {
      "cell_type": "code",
      "source": [],
      "metadata": {
        "id": "TvRj4AnevzoM"
      },
      "execution_count": 33,
      "outputs": []
    }
  ]
}